{
 "cells": [
  {
   "cell_type": "code",
   "execution_count": 1,
   "metadata": {},
   "outputs": [],
   "source": [
    "#adding module\n",
    "import pandas as pd\n",
    "from sklearn import tree\n",
    "from sklearn.metrics import confusion_matrix\n",
    "from sklearn.model_selection import train_test_split\n",
    "from sklearn.tree import DecisionTreeClassifier\n",
    "from sklearn.tree import export_graphviz\n",
    "from sklearn.metrics import accuracy_score\n",
    "from sklearn.metrics import classification_report\n",
    "import pydotplus\n",
    "import pydot\n",
    "from io import StringIO\n",
    "import re"
   ]
  },
  {
   "cell_type": "code",
   "execution_count": 2,
   "metadata": {},
   "outputs": [],
   "source": [
    "#get info\n",
    "diabet_info = pd.read_csv(\"diabetes.csv\")\n",
    "X = diabet_info.values[:, 0:5]\n",
    "Y = diabet_info.values[:, 5]\n",
    "n = len(list(diabet_info.columns))\n",
    "feature_class = list(diabet_info.columns)[0:n-1]"
   ]
  },
  {
   "cell_type": "code",
   "execution_count": 3,
   "metadata": {},
   "outputs": [
    {
     "data": {
      "text/plain": [
       "DecisionTreeClassifier(random_state=100)"
      ]
     },
     "execution_count": 3,
     "metadata": {},
     "output_type": "execute_result"
    }
   ],
   "source": [
    "#Splitting sample in to test_set and training_test\n",
    "X_train, X_test, y_train, y_test = train_test_split(X, Y, test_size = 0.2, random_state = 100)\n",
    "clf_gini = DecisionTreeClassifier(criterion = \"gini\", random_state = 100, splitter = 'best') #using gini\n",
    "clf_gini.fit(X_train, y_train)"
   ]
  },
  {
   "cell_type": "code",
   "execution_count": 4,
   "metadata": {},
   "outputs": [
    {
     "name": "stdout",
     "output_type": "stream",
     "text": [
      "Accuracy :  72.72727272727273\n"
     ]
    }
   ],
   "source": [
    "#test accuracy\n",
    "from sklearn.metrics import accuracy_score\n",
    "def prediction(X_test, clf_object): \n",
    "    y_pred = clf_gini.predict(X_test)\n",
    "    return y_pred\n",
    "\n",
    "def cal_accuracy(y_test, y_pred): \n",
    "    print (\"Accuracy : \", accuracy_score(y_test,y_pred)*100) \n",
    "    \n",
    "y_pred_gini = prediction(X_test, clf_gini) \n",
    "cal_accuracy(y_test, y_pred_gini)"
   ]
  },
  {
   "cell_type": "code",
   "execution_count": 5,
   "metadata": {},
   "outputs": [],
   "source": [
    "#visualizing\n",
    "dotfile = StringIO()\n",
    "\n",
    "export_graphviz(clf_gini, out_file=dotfile, feature_names=feature_class, class_names = ['No','Yes'], rounded=True, filled=True)\n",
    "(graph_gini,) = pydot.graph_from_dot_data(dotfile.getvalue())\n",
    "graph_gini.write_png(\"diabet_before_prunning.png\")"
   ]
  },
  {
   "cell_type": "code",
   "execution_count": 6,
   "metadata": {},
   "outputs": [],
   "source": [
    "#prunning the tree\n",
    "import copy\n",
    "prune_clf_gini = copy.deepcopy(clf_gini)\n",
    "\n",
    "def prune_gini(decisiontree, min_gini = 0):\n",
    "    if decisiontree.min_impurity_split == None:\n",
    "        decisiontree.min_impurity_split = 0\n",
    "    decisiontree.min_impurity_split = min_gini\n",
    "    tree = decisiontree.tree_\n",
    "    for i in range(tree.node_count):\n",
    "        if tree.impurity[i] < min_gini:\n",
    "            tree.children_left[i] = -1\n",
    "            tree.children_left[i] = -1\n",
    "            tree.impurity[i] = 0\n",
    "\n",
    "prune_gini(prune_clf_gini, 0.2)"
   ]
  },
  {
   "cell_type": "code",
   "execution_count": 7,
   "metadata": {},
   "outputs": [],
   "source": [
    "#visualizing\n",
    "dotfile2 = StringIO()\n",
    "\n",
    "export_graphviz(prune_clf_gini, out_file=dotfile2, feature_names=feature_class, class_names = ['No','Yes'], rounded=True, filled=True)\n",
    "(prune_graph_gini,) = pydot.graph_from_dot_data(dotfile2.getvalue())\n",
    "prune_graph_gini.write_png(\"diabet_after_post-prunning.png\")"
   ]
  },
  {
   "cell_type": "code",
   "execution_count": 8,
   "metadata": {},
   "outputs": [
    {
     "name": "stderr",
     "output_type": "stream",
     "text": [
      "C:\\Users\\Meow\\Anaconda3\\lib\\site-packages\\sklearn\\tree\\_classes.py:310: FutureWarning: The min_impurity_split parameter is deprecated. Its default value has changed from 1e-7 to 0 in version 0.23, and it will be removed in 0.25. Use the min_impurity_decrease parameter instead.\n",
      "  FutureWarning)\n"
     ]
    },
    {
     "data": {
      "text/plain": [
       "DecisionTreeClassifier(min_impurity_split=0.2, random_state=100)"
      ]
     },
     "execution_count": 8,
     "metadata": {},
     "output_type": "execute_result"
    }
   ],
   "source": [
    "#pre-prunning using sklearn\n",
    "preprune_clf_gini = DecisionTreeClassifier(criterion = \"gini\", random_state = 100, splitter = 'best', min_impurity_split = 0.2)\n",
    "preprune_clf_gini.fit(X_test, y_test)"
   ]
  },
  {
   "cell_type": "code",
   "execution_count": 9,
   "metadata": {},
   "outputs": [],
   "source": [
    "#visualizing\n",
    "dotfile3 = StringIO()\n",
    "\n",
    "export_graphviz(preprune_clf_gini, out_file=dotfile3, feature_names=feature_class, class_names = ['No','Yes'], rounded=True, filled=True)\n",
    "(preprune_graph_gini,) = pydot.graph_from_dot_data(dotfile3.getvalue())\n",
    "preprune_graph_gini.write_png(\"diabet_after_pre-prunning.png\")"
   ]
  },
  {
   "cell_type": "code",
   "execution_count": 10,
   "metadata": {},
   "outputs": [
    {
     "name": "stdout",
     "output_type": "stream",
     "text": [
      "Accuracy :  72.72727272727273\n"
     ]
    }
   ],
   "source": [
    "#test accuracy\n",
    "y_pred_gini_preprune = prediction(X_test, preprune_clf_gini) \n",
    "cal_accuracy(y_test, y_pred_gini_preprune)"
   ]
  },
  {
   "cell_type": "code",
   "execution_count": null,
   "metadata": {},
   "outputs": [],
   "source": [
    "y_pred_gini_postprune = prediction(X_test, preprune_clf_gini) \n",
    "cal_accuracy(y_test, y_pred_gini_preprune)"
   ]
  }
 ],
 "metadata": {
  "kernelspec": {
   "display_name": "Python 3",
   "language": "python",
   "name": "python3"
  },
  "language_info": {
   "codemirror_mode": {
    "name": "ipython",
    "version": 3
   },
   "file_extension": ".py",
   "mimetype": "text/x-python",
   "name": "python",
   "nbconvert_exporter": "python",
   "pygments_lexer": "ipython3",
   "version": "3.7.7"
  }
 },
 "nbformat": 4,
 "nbformat_minor": 4
}
